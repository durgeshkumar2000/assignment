{
 "cells": [
  {
   "cell_type": "code",
   "execution_count": 1,
   "id": "496b696f-8392-4665-9077-b24942cce9c4",
   "metadata": {},
   "outputs": [],
   "source": [
    "#Q1\n",
    "#Statistics is the science of collecting, organizing, and analizing data."
   ]
  },
  {
   "cell_type": "code",
   "execution_count": 2,
   "id": "ca6c2474-d8d3-47d6-9652-8e6aa52060a8",
   "metadata": {},
   "outputs": [],
   "source": [
    "#Q2\n",
    "#1) Descriptive Statistics(Histogram, PDF,PMF)\n",
    "#2) Inferential Statistics(Z-test, T-test, CHI sq test)"
   ]
  },
  {
   "cell_type": "code",
   "execution_count": 3,
   "id": "e8109b52-1314-49af-b2f8-ed72ef6924da",
   "metadata": {},
   "outputs": [],
   "source": [
    "#Q3\n",
    "# Data are classified into two types:\n",
    "# Quantitative and Qualitative\n",
    "#In Quantitative ( Discrete and Continuous data)\n",
    "#In Qualitative (Nominal and Ordinal data)"
   ]
  },
  {
   "cell_type": "code",
   "execution_count": 4,
   "id": "84b34f68-6805-421a-85a6-ad97c957faf8",
   "metadata": {},
   "outputs": [],
   "source": [
    "#Q4 \n",
    "# i) Ordinal ii) Nominal iii) Continuous iv) Discrete"
   ]
  },
  {
   "cell_type": "code",
   "execution_count": 5,
   "id": "55196515-e93c-4710-81fc-ac4fc02f101e",
   "metadata": {},
   "outputs": [],
   "source": [
    "#Q5 Nominal\n",
    "#Ordinal \n",
    "#Internal \n",
    "#Scale"
   ]
  },
  {
   "cell_type": "code",
   "execution_count": 6,
   "id": "5d1d1449-352f-42c6-bab8-def01465eaef",
   "metadata": {},
   "outputs": [],
   "source": [
    "#Q6\n",
    "#It is important to understand the level of measurement of variables in research, \n",
    "#because the level of measurement determines the type of statistical analysis that can be conducted,\n",
    "#and, therefore, the type of conclusions that can be drawn from the research."
   ]
  },
  {
   "cell_type": "code",
   "execution_count": 7,
   "id": "56250e61-48c1-4051-99d3-5ef5cb3bb5c4",
   "metadata": {},
   "outputs": [],
   "source": [
    "#Q7 In nominal we dont assign ranks whereas in ordinal we assign ranks."
   ]
  },
  {
   "cell_type": "code",
   "execution_count": 8,
   "id": "c5787342-64a5-4941-a9df-498765491066",
   "metadata": {},
   "outputs": [],
   "source": [
    "#Q8 Histogram"
   ]
  },
  {
   "cell_type": "code",
   "execution_count": 9,
   "id": "1b333631-a96f-4b4a-a1c8-dbe8bcd67734",
   "metadata": {},
   "outputs": [],
   "source": [
    "#Q9 Descriptive consist of organizing and summarizing data. Here we measure central tendency, Measure of dispersion. whereas in Inferential consist of using the data you have measured to form conclusion.\n"
   ]
  },
  {
   "cell_type": "code",
   "execution_count": null,
   "id": "d6099a7f-3823-4493-959c-1faaf224865f",
   "metadata": {},
   "outputs": [],
   "source": [
    "#Q10 "
   ]
  }
 ],
 "metadata": {
  "kernelspec": {
   "display_name": "Python 3 (ipykernel)",
   "language": "python",
   "name": "python3"
  },
  "language_info": {
   "codemirror_mode": {
    "name": "ipython",
    "version": 3
   },
   "file_extension": ".py",
   "mimetype": "text/x-python",
   "name": "python",
   "nbconvert_exporter": "python",
   "pygments_lexer": "ipython3",
   "version": "3.10.8"
  }
 },
 "nbformat": 4,
 "nbformat_minor": 5
}
