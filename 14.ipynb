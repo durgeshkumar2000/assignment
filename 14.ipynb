{
 "cells": [
  {
   "cell_type": "code",
   "execution_count": 2,
   "id": "2a591129-8b19-4423-8e02-a473ac5bfb0c",
   "metadata": {},
   "outputs": [
    {
     "data": {
      "text/plain": [
       "'toyota'"
      ]
     },
     "execution_count": 2,
     "metadata": {},
     "output_type": "execute_result"
    }
   ],
   "source": [
    "#Q1\n",
    "class vehicle:\n",
    "    def __init__(self, name_of_vehicle, max_speed, average_of_vehicle):\n",
    "        self.name_of_vehicle = name_of_vehicle\n",
    "        self.max_speed = max_speed\n",
    "        self.average_of_vehicle = average_of_vehicle\n",
    "    \n",
    "    def display(self):\n",
    "        return self.name_of_vehicle, self.max_speed, self.average_of_vehicl\n",
    "\n",
    "nishu = vehicle(\"toyota\" , 200, 27)\n",
    "nishu.name_of_vehicle\n"
   ]
  },
  {
   "cell_type": "code",
   "execution_count": 4,
   "id": "0be8fa27-d75e-4ec9-a713-34983efa24f3",
   "metadata": {},
   "outputs": [
    {
     "data": {
      "text/plain": [
       "200"
      ]
     },
     "execution_count": 4,
     "metadata": {},
     "output_type": "execute_result"
    }
   ],
   "source": [
    "nishu.max_speed"
   ]
  },
  {
   "cell_type": "code",
   "execution_count": 5,
   "id": "8ed4583e-5008-45a6-a187-1eb1bff2ab84",
   "metadata": {},
   "outputs": [
    {
     "data": {
      "text/plain": [
       "27"
      ]
     },
     "execution_count": 5,
     "metadata": {},
     "output_type": "execute_result"
    }
   ],
   "source": [
    "nishu.average_of_vehicle"
   ]
  },
  {
   "cell_type": "code",
   "execution_count": 41,
   "id": "0e0a1a49-7d06-4454-a3f1-a95fc84c2ad5",
   "metadata": {},
   "outputs": [],
   "source": [
    "#Q2\n",
    "class vehicle:\n",
    "    def __init__(self, name_of_vehicle, max_speed, average_of_vehicle):\n",
    "        self.name_of_vehicle = name_of_vehicle\n",
    "        self.max_speed = max_speed\n",
    "        self.average_of_vehicle = average_of_vehicle\n",
    "    \n",
    "    def seating_capacity(capacity):\n",
    "        return self.name_of_vehicle, capacity\n",
    "class car(vehicle):\n",
    "    pass"
   ]
  },
  {
   "cell_type": "code",
   "execution_count": 46,
   "id": "b9ca3a5f-f482-461f-98d3-f7047185099d",
   "metadata": {},
   "outputs": [
    {
     "ename": "AttributeError",
     "evalue": "'tuple' object has no attribute 'seating_capacity'",
     "output_type": "error",
     "traceback": [
      "\u001b[0;31m---------------------------------------------------------------------------\u001b[0m",
      "\u001b[0;31mAttributeError\u001b[0m                            Traceback (most recent call last)",
      "Cell \u001b[0;32mIn[48], line 2\u001b[0m\n\u001b[1;32m      1\u001b[0m nishu \u001b[38;5;241m=\u001b[39m (\u001b[38;5;124m\"\u001b[39m\u001b[38;5;124mtoyota\u001b[39m\u001b[38;5;124m\"\u001b[39m ,\u001b[38;5;241m300\u001b[39m, \u001b[38;5;241m30\u001b[39m)\n\u001b[0;32m----> 2\u001b[0m \u001b[38;5;28mprint\u001b[39m(\u001b[38;5;124m\"\u001b[39m\u001b[38;5;124mtn\u001b[39m\u001b[38;5;124m\"\u001b[39m,\u001b[43mnishu\u001b[49m\u001b[38;5;241;43m.\u001b[39;49m\u001b[43mseating_capacity\u001b[49m)\n",
      "\u001b[0;31mAttributeError\u001b[0m: 'tuple' object has no attribute 'seating_capacity'"
     ]
    }
   ],
   "source": [
    "nishu =car(\"toyot\" ,300,30)\n",
    "obj = car()\n",
    "obj.\n",
    "\n",
    "\n",
    "    "
   ]
  },
  {
   "cell_type": "code",
   "execution_count": 32,
   "id": "232952e3-c412-4d78-a5fa-f4fbf8167627",
   "metadata": {},
   "outputs": [],
   "source": []
  },
  {
   "cell_type": "code",
   "execution_count": 25,
   "id": "9d5b7c15-0eae-40e5-91d7-c665a205651a",
   "metadata": {},
   "outputs": [
    {
     "data": {
      "text/plain": [
       "'this is a class 2'"
      ]
     },
     "execution_count": 28,
     "metadata": {},
     "output_type": "execute_result"
    }
   ],
   "source": [
    "#Q3 Multiple inheritance is a feature in which object or class can inherit features from more than one parent object or parent class.\n",
    "class class1:\n",
    "    def test_class1(self):\n",
    "        return \"This is a class1\"\n",
    "class class2:\n",
    "    def test_class2(self):\n",
    "        return \"this is a class 2\"\n",
    "class class3(class1, class2):\n",
    "    pass\n",
    "obj_class3 = class3()\n",
    "obj_class3.test_class2()"
   ]
  },
  {
   "cell_type": "code",
   "execution_count": 39,
   "id": "b5d8eb18-1a5f-47a8-83a1-ba2521d6a075",
   "metadata": {},
   "outputs": [
    {
     "name": "stdout",
     "output_type": "stream",
     "text": [
      "method belong to class A\n"
     ]
    }
   ],
   "source": [
    "#Q5 Method overiding is a feature of oops language where subclass or child class can provide the program with specific characteristics or specific implementation process of data provided that are already defined in the parent class or sublcass.\n",
    "class A:\n",
    "    def display(self):\n",
    "        print(\"method belong to class A\")\n",
    "class B(A):\n",
    "    pass\n",
    "b1 = B()\n",
    "b1.display()\n"
   ]
  },
  {
   "cell_type": "code",
   "execution_count": null,
   "id": "3e6d7719-796c-47d6-8640-ed318e0ec31c",
   "metadata": {},
   "outputs": [],
   "source": []
  }
 ],
 "metadata": {
  "kernelspec": {
   "display_name": "Python 3 (ipykernel)",
   "language": "python",
   "name": "python3"
  },
  "language_info": {
   "codemirror_mode": {
    "name": "ipython",
    "version": 3
   },
   "file_extension": ".py",
   "mimetype": "text/x-python",
   "name": "python",
   "nbconvert_exporter": "python",
   "pygments_lexer": "ipython3",
   "version": "3.10.8"
  }
 },
 "nbformat": 4,
 "nbformat_minor": 5
}
