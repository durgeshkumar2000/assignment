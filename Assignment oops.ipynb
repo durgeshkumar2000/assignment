{
 "cells": [
  {
   "cell_type": "code",
   "execution_count": 20,
   "id": "65e5c37a-1341-4954-ad9e-8b4b670dd80d",
   "metadata": {},
   "outputs": [
    {
     "name": "stdout",
     "output_type": "stream",
     "text": [
      "mammal\n",
      "I'm a mammal\n",
      "I'm a dog\n"
     ]
    }
   ],
   "source": [
    "#Q1\n",
    "#A Class in object oriented programming is a blueprint or prototype that defines the variables and the methods (functions) common to all Java Objects of a certain kind.\n",
    "#An object in OOPS is a specimen of a class. Software objects are often used to model real-world objects you find in everyday life.\n",
    "class Dog:\n",
    " \n",
    "    attr1 = \"mammal\"\n",
    "    attr2 = \"dog\"\n",
    " \n",
    "    def fun(self):\n",
    "        print(\"I'm a\", self.attr1)\n",
    "        print(\"I'm a\", self.attr2)\n",
    " \n",
    " \n",
    "Rodger = Dog()\n",
    " \n",
    "print(Rodger.attr1)\n",
    "Rodger.fun()"
   ]
  },
  {
   "cell_type": "code",
   "execution_count": 21,
   "id": "d144c611-103c-450e-b0d0-5a268fee8b70",
   "metadata": {},
   "outputs": [],
   "source": [
    "#Q2  Inheritance, Polymorphism, Encapsulation and Abstraction."
   ]
  },
  {
   "cell_type": "code",
   "execution_count": 22,
   "id": "66c8371b-6f86-4ca3-ad4a-828f3601dd79",
   "metadata": {},
   "outputs": [
    {
     "name": "stdout",
     "output_type": "stream",
     "text": [
      "I ran first\n",
      "I ran second\n",
      "Name: Audi R8\n"
     ]
    }
   ],
   "source": [
    "#Q3 In an object-oriented approach, the __init__ method is the Python equivalent of the C++ constructor. Every time an object is created from a class, the __init__function is called. The __init__ method only allows the class to initialize the object's attributes. It is only used within classes.\n",
    "class Car:\n",
    "    def __init__(self, name):\n",
    "        self.name = name\n",
    "        print(\"I ran first\")\n",
    " \n",
    "    def product(self):\n",
    "        print(\"I ran second\")\n",
    "        return (\"Name: \" + self.name)\n",
    " \n",
    " \n",
    "C = Car('Audi R8')\n",
    "print(C.product())"
   ]
  },
  {
   "cell_type": "code",
   "execution_count": 23,
   "id": "91eb6f13-e5cc-43b7-b5d7-d7b805450799",
   "metadata": {},
   "outputs": [],
   "source": [
    "#Q4 The self variable is used to represent the instance of the class which is often used in object-oriented programming. It works as a reference to the object. Python uses the self parameter to refer to instance attributes and methods of the class."
   ]
  },
  {
   "cell_type": "code",
   "execution_count": null,
   "id": "bd314f8e-3d4d-4d3e-9b77-1f389238eea5",
   "metadata": {},
   "outputs": [],
   "source": [
    "#Q5 Inheritance in OOP = When a class derives from another class.\n",
    "#Class BaseClass:\n",
    " #   {Body}\n",
    "#Class DerivedClass(BaseClass):\n",
    " #   {Body}"
   ]
  }
 ],
 "metadata": {
  "kernelspec": {
   "display_name": "Python 3 (ipykernel)",
   "language": "python",
   "name": "python3"
  },
  "language_info": {
   "codemirror_mode": {
    "name": "ipython",
    "version": 3
   },
   "file_extension": ".py",
   "mimetype": "text/x-python",
   "name": "python",
   "nbconvert_exporter": "python",
   "pygments_lexer": "ipython3",
   "version": "3.10.8"
  }
 },
 "nbformat": 4,
 "nbformat_minor": 5
}
