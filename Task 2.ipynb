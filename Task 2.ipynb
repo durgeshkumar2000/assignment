{
 "cells": [
  {
   "cell_type": "code",
   "execution_count": null,
   "id": "3ca191d3-6b0b-454c-be1b-18c4dc737dac",
   "metadata": {},
   "outputs": [],
   "source": []
  },
  {
   "cell_type": "code",
   "execution_count": null,
   "id": "91dd74ae-35fb-4aef-94ba-1de487cc3c40",
   "metadata": {},
   "outputs": [],
   "source": [
    "#Q1"
   ]
  },
  {
   "cell_type": "code",
   "execution_count": 4,
   "id": "1ec8e197-663c-4797-bcd9-c4b1d33abe4d",
   "metadata": {},
   "outputs": [],
   "source": [
    "def password_validator(password):\n",
    "    special_char = ['@','#','$','%','*','&']\n",
    "    islengthok = True if len(password) >=6 and len(password) < 20 else False\n",
    "    isdigitpresent = any(char.isdigit() for char in password)\n",
    "    isupperpresent = any(char.isupper() for char in password)\n",
    "    islowerpresent = any(char.islower() for char in password)\n",
    "    isspecialpresent = any(char in special_char for char in password)\n",
    "    \n",
    "    isvalid = all([islengthok,isdigitpresent,isupperpresent,islowerpresent,isspecialpresent])\n",
    "    if isvalid :\n",
    "        print(\"Valid Password\")\n",
    "    else:\n",
    "        print(\"invalid password\")"
   ]
  },
  {
   "cell_type": "code",
   "execution_count": 5,
   "id": "a6ca1dfb-1710-457d-b221-bc86997259ef",
   "metadata": {},
   "outputs": [
    {
     "name": "stdin",
     "output_type": "stream",
     "text": [
      "enter your password Ramesh%456\n"
     ]
    },
    {
     "name": "stdout",
     "output_type": "stream",
     "text": [
      "Valid Password\n"
     ]
    }
   ],
   "source": [
    "password = input(\"enter your password\")\n",
    "password_validator(password)\n"
   ]
  },
  {
   "cell_type": "code",
   "execution_count": 19,
   "id": "e7823302-6aa0-4b28-bf00-e945947869c7",
   "metadata": {},
   "outputs": [
    {
     "name": "stdin",
     "output_type": "stream",
     "text": [
      "enter the string name sdkfd\n"
     ]
    },
    {
     "data": {
      "text/plain": [
       "True"
      ]
     },
     "execution_count": 19,
     "metadata": {},
     "output_type": "execute_result"
    }
   ],
   "source": [
    "#Q2 (i)\n",
    "s = input(\"enter the string name\")\n",
    "first_letter = lambda s : s[0] == 's'\n",
    "first_letter(s)"
   ]
  },
  {
   "cell_type": "code",
   "execution_count": 8,
   "id": "619420c9-ef5c-45f1-810b-9e8bf6e09162",
   "metadata": {},
   "outputs": [
    {
     "name": "stdin",
     "output_type": "stream",
     "text": [
      "enter a string we\n"
     ]
    }
   ],
   "source": [
    "#(ii)\n",
    "s = input(\"enter a string\")\n",
    "a = lambda s : s.isnumeric()\n"
   ]
  },
  {
   "cell_type": "code",
   "execution_count": 56,
   "id": "918908ac-e20e-4988-87ca-b4b710d6f163",
   "metadata": {},
   "outputs": [
    {
     "name": "stdout",
     "output_type": "stream",
     "text": [
      "[('grapes', 1000), ('mango', 99), ('orange', 80)]\n"
     ]
    }
   ],
   "source": [
    "#(iii)\n",
    "l = [(\"mango\",99),(\"orange\",80), (\"grapes\", 1000)]\n",
    "sort_tuple = lambda l : l.sort()\n",
    "sort_tuple(l)\n",
    "print(l)"
   ]
  },
  {
   "cell_type": "code",
   "execution_count": null,
   "id": "28bd343a-5b5b-448f-a338-032afeac0793",
   "metadata": {},
   "outputs": [],
   "source": [
    "\n"
   ]
  },
  {
   "cell_type": "code",
   "execution_count": null,
   "id": "f2ff6ded-c3f7-4eac-aba4-9e1e9d19242b",
   "metadata": {},
   "outputs": [],
   "source": [
    "#(iv)"
   ]
  },
  {
   "cell_type": "code",
   "execution_count": 62,
   "id": "b3b429e4-289a-40ff-a470-8c558a820105",
   "metadata": {},
   "outputs": [
    {
     "data": {
      "text/plain": [
       "[1, 4, 9, 16, 25, 36, 49, 64, 81, 100]"
      ]
     },
     "execution_count": 62,
     "metadata": {},
     "output_type": "execute_result"
    }
   ],
   "source": [
    "def sq(x) :\n",
    "    return x**2\n",
    "l = list(range(1,11))\n",
    "list(map(sq,l))\n"
   ]
  },
  {
   "cell_type": "code",
   "execution_count": null,
   "id": "ebe7f18f-7523-4445-80e5-9bd8443215d4",
   "metadata": {},
   "outputs": [],
   "source": [
    "#(v)"
   ]
  },
  {
   "cell_type": "code",
   "execution_count": 63,
   "id": "1a72aad3-4d2e-4918-9817-db24f1e44899",
   "metadata": {},
   "outputs": [
    {
     "data": {
      "text/plain": [
       "[1, 8, 27, 64, 125, 216, 343, 512, 729, 1000]"
      ]
     },
     "execution_count": 63,
     "metadata": {},
     "output_type": "execute_result"
    }
   ],
   "source": [
    "def cube(x) :\n",
    "    return x**3\n",
    "l = list(range(1,11))\n",
    "list(map(cube,l))"
   ]
  },
  {
   "cell_type": "code",
   "execution_count": 2,
   "id": "6c285b67-d449-4288-8e28-c1b88f1ceb57",
   "metadata": {},
   "outputs": [
    {
     "name": "stdin",
     "output_type": "stream",
     "text": [
      "enter a number 6\n"
     ]
    },
    {
     "data": {
      "text/plain": [
       "True"
      ]
     },
     "execution_count": 2,
     "metadata": {},
     "output_type": "execute_result"
    }
   ],
   "source": [
    "#(vi)\n",
    "n = int(input(\"enter a number\"))\n",
    "a = lambda n : n%2 == 0 \n",
    "a(n)\n"
   ]
  },
  {
   "cell_type": "code",
   "execution_count": 68,
   "id": "0bf14303-57e8-4ac8-a257-b1873b644951",
   "metadata": {},
   "outputs": [
    {
     "data": {
      "text/plain": [
       "[1, 3, 5, 7, 9]"
      ]
     },
     "execution_count": 68,
     "metadata": {},
     "output_type": "execute_result"
    }
   ],
   "source": [
    "# (vii)\n",
    "l = [1,2,3,4,5,6,7,8,9,10]\n",
    "list(filter(lambda x : x%2 != 0 , l))"
   ]
  },
  {
   "cell_type": "code",
   "execution_count": null,
   "id": "cda7e6ed-953e-492e-a3dc-59bc4249f8c9",
   "metadata": {},
   "outputs": [],
   "source": []
  },
  {
   "cell_type": "code",
   "execution_count": 76,
   "id": "9d220f34-d6cf-4b1d-8ab2-53f811862549",
   "metadata": {},
   "outputs": [
    {
     "name": "stdout",
     "output_type": "stream",
     "text": [
      "[0, 1, 2, 3, 4, 5, 6, -5, -4, -3, -2, -1]\n"
     ]
    }
   ],
   "source": [
    "#(viii)\n",
    "l = [1,2,3,4,5,6,-1,-2,-3,-4,-5,0]\n",
    "a = list(filter(lambda x : x>=0 , l))\n",
    "b = list(filter(lambda x : x < 0 ,l))\n",
    "a.sort()\n",
    "b.sort()\n",
    "print(a+b)"
   ]
  },
  {
   "cell_type": "code",
   "execution_count": null,
   "id": "2865bcde-8667-401c-a20a-20ad8cd10cf8",
   "metadata": {},
   "outputs": [],
   "source": []
  },
  {
   "cell_type": "code",
   "execution_count": null,
   "id": "05875852-e097-49f8-baed-550db7847e4a",
   "metadata": {},
   "outputs": [],
   "source": []
  },
  {
   "cell_type": "code",
   "execution_count": null,
   "id": "130230ee-25f6-4adb-af9d-2d16a4ab2cd7",
   "metadata": {},
   "outputs": [],
   "source": []
  }
 ],
 "metadata": {
  "kernelspec": {
   "display_name": "Python 3 (ipykernel)",
   "language": "python",
   "name": "python3"
  },
  "language_info": {
   "codemirror_mode": {
    "name": "ipython",
    "version": 3
   },
   "file_extension": ".py",
   "mimetype": "text/x-python",
   "name": "python",
   "nbconvert_exporter": "python",
   "pygments_lexer": "ipython3",
   "version": "3.10.8"
  }
 },
 "nbformat": 4,
 "nbformat_minor": 5
}
