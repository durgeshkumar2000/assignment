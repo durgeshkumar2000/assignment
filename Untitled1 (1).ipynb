{
 "cells": [
  {
   "cell_type": "code",
   "execution_count": 1,
   "id": "fdc56779-674b-4479-bbc1-27afaf3663e4",
   "metadata": {},
   "outputs": [],
   "source": [
    "#Q1\n",
    "#Databses is an organised collection of data, so that it can be easily accessed and managed.\n",
    "#SQl database primarily called relational databases whereas NoSQL databases non-relational.\n",
    "#SQL database defines & manipulates data based SQL whereas in NoSQL data can be stored in many ways it can be document oriented, column oriented, graph based.\n",
    "#SQL databases are vertically scalable whereas NoSQL are horizontally scalable.\n"
   ]
  },
  {
   "cell_type": "code",
   "execution_count": 2,
   "id": "9bfe515e-8837-477a-8a24-9bcf9f4ad885",
   "metadata": {},
   "outputs": [],
   "source": [
    "#Q2\n",
    "#DDL(Data defnition language) simply deals with description of databases schema and is used to create, modify the structure of database object in the database.\n",
    "#CREATE : This command is used to create the database.\n",
    "#DROP : is used to delete object from the database\n",
    "#ALTER : used to alter the structure of database\n",
    "#TRUNCATE :  used to remove all record from the table"
   ]
  },
  {
   "cell_type": "code",
   "execution_count": 3,
   "id": "eef42a22-90e9-4aa5-808d-aca645c06d98",
   "metadata": {},
   "outputs": [],
   "source": [
    "#Q3 \n",
    "#Data Manipulation language(DML): the sql command that deals with the manipulation of data present in database belong to DML and this include most of SQL language.\n",
    "#INSERT : It insert data into table.\n",
    "#UPDATE : Its used to update existing data within table.\n",
    "#DELETE : It is used to delete record from the database table.\n"
   ]
  },
  {
   "cell_type": "code",
   "execution_count": 4,
   "id": "a72c7e85-bcf8-43fd-875c-833a656a8604",
   "metadata": {},
   "outputs": [],
   "source": [
    "#Q4\n",
    "#Data query language(DQL) : DQL statement are used for performing queries on the data within schema object.\n",
    "#SELECT : Its is used to recieve data from database"
   ]
  },
  {
   "cell_type": "code",
   "execution_count": 5,
   "id": "cb4be2a9-fb6a-4842-86b3-466b4adfc659",
   "metadata": {},
   "outputs": [],
   "source": [
    "#Q5\n",
    "#A primmary key generally focusses on the uniqueness of the table. It assure the value in the specific column is unique.\n",
    "# a foreign key is generally used to build a relationship b/w the two tables."
   ]
  },
  {
   "cell_type": "code",
   "execution_count": null,
   "id": "5f2b3c26-771f-473e-9604-3e0b75b8b6d4",
   "metadata": {},
   "outputs": [],
   "source": [
    "#Q7\n",
    "#FROM\n",
    "#WHERE\n",
    "#GROUP By\n",
    "#HAVING\n",
    "#SELECT\n",
    "#ORDER BY\n",
    "#\n"
   ]
  }
 ],
 "metadata": {
  "kernelspec": {
   "display_name": "Python 3 (ipykernel)",
   "language": "python",
   "name": "python3"
  },
  "language_info": {
   "codemirror_mode": {
    "name": "ipython",
    "version": 3
   },
   "file_extension": ".py",
   "mimetype": "text/x-python",
   "name": "python",
   "nbconvert_exporter": "python",
   "pygments_lexer": "ipython3",
   "version": "3.10.8"
  }
 },
 "nbformat": 4,
 "nbformat_minor": 5
}
