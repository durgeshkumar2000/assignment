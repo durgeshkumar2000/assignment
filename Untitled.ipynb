{
 "cells": [
  {
   "cell_type": "code",
   "execution_count": 1,
   "id": "6fe3fe89-dca9-492d-84ec-aab49b826afb",
   "metadata": {},
   "outputs": [],
   "source": [
    "#Q1\n",
    "#Multithreading is the threading technique in python program to run multiple threads concurrently by rapidly switching b/w threads with a CPU help.\n",
    "#Multithreads aims to perform multiple tasks simultaneously which increases performance,speed and improve the rendering of application.\n",
    "# thread module and Threading module"
   ]
  },
  {
   "cell_type": "code",
   "execution_count": 2,
   "id": "c165c182-5b59-4da0-90a8-6692c88b1dc9",
   "metadata": {},
   "outputs": [],
   "source": [
    "#Q2\n",
    "#1) return the no. of thread object that are active.\n",
    "#2) return the no. of thread objects in the callers thread control.\n",
    "#3) return a list of all thread object that are currently active."
   ]
  },
  {
   "cell_type": "code",
   "execution_count": 3,
   "id": "4a454c72-8c4c-4b09-84e7-1a7bffee2303",
   "metadata": {},
   "outputs": [],
   "source": [
    "#Q3\n",
    "#1) run() method execute any target fn belonging to a given thread object that is now active.\n",
    "#2) start() method is used to initiate the activity of thread and it call only once for each thread so that the execution f thread begins.\n",
    "#3) join() method is used to block the execute of another code untill the thread terminates.\n",
    "#4) isAlive() method returns True if the thread is still running and False otherwise."
   ]
  },
  {
   "cell_type": "code",
   "execution_count": 4,
   "id": "f5896cfc-507a-4b0d-947a-76bedf94557c",
   "metadata": {},
   "outputs": [],
   "source": [
    "#Q5 \n",
    "#Advantage:Improved performance and concurrency. Simplified coding of remote procedural calls and conversations. Simultaneous access to multiple applications. Reduced no. of req servers.\n",
    "#Disadvantage : Diffiulty of writing code. Difficulty of code. Difficulty of managing concurrency. Difficult of testing. Difficulty of porting existing code."
   ]
  },
  {
   "cell_type": "code",
   "execution_count": 5,
   "id": "45fe2ff7-c181-4853-b1e3-9fa2dec8b4c5",
   "metadata": {},
   "outputs": [],
   "source": [
    "#Q6\n",
    "#Deadlock is a concurrency failure mode where a thread wait for a condition that never occurs.\n",
    "#Race conditions : When two or more thread try to acceess or use some shared resources at the same time; to make changesto it , a condition occurs i.e race condition."
   ]
  },
  {
   "cell_type": "code",
   "execution_count": 13,
   "id": "b8b064ec-7214-47ff-a833-507473d54f7f",
   "metadata": {},
   "outputs": [
    {
     "ename": "IndentationError",
     "evalue": "unindent does not match any outer indentation level (<tokenize>, line 9)",
     "output_type": "error",
     "traceback": [
      "\u001b[0;36m  File \u001b[0;32m<tokenize>:9\u001b[0;36m\u001b[0m\n\u001b[0;31m    print(\"Square is : \",n*n)\u001b[0m\n\u001b[0m    ^\u001b[0m\n\u001b[0;31mIndentationError\u001b[0m\u001b[0;31m:\u001b[0m unindent does not match any outer indentation level\n"
     ]
    }
   ],
   "source": [
    "#Q4\n",
    "import time\n",
    "\n",
    "import threading\n",
    "def cal_sqre(num):\n",
    "    print(\"Square root\")\n",
    "    for n in num :\n",
    "        time.sleep(0.3)\n",
    "     print(\"Square is : \",n*n)\n",
    "def cal_cube(num):\n",
    "    print(\"cube root\")\n",
    "    for n in num:\n",
    "        time.sleep(0.3)\n",
    "        print(\"cube is \", n*n*n)\n",
    "arr = [4,5,6,7,2]\n",
    "t = time.time()\n",
    "th1 = threading.Thread(target = cal_sqre, args = (ar,))\n",
    "th2 = threading.Thread(target = cal_cube, args = (ar,))\n",
    "th1.start()\n",
    "th2.start()\n",
    "th1.join()\n",
    "th2.join()\n",
    "print(\"thotal time taking by thread is \", time.time()-t)\n",
    "print(\"Again executing the main thread\")\n",
    "print(\"thread1 and thread2 have finisher their execution\")\n",
    "      "
   ]
  },
  {
   "cell_type": "code",
   "execution_count": null,
   "id": "a40b434b-c516-400c-a010-ba88f4ae5b0c",
   "metadata": {},
   "outputs": [],
   "source": []
  }
 ],
 "metadata": {
  "kernelspec": {
   "display_name": "Python 3 (ipykernel)",
   "language": "python",
   "name": "python3"
  },
  "language_info": {
   "codemirror_mode": {
    "name": "ipython",
    "version": 3
   },
   "file_extension": ".py",
   "mimetype": "text/x-python",
   "name": "python",
   "nbconvert_exporter": "python",
   "pygments_lexer": "ipython3",
   "version": "3.10.8"
  }
 },
 "nbformat": 4,
 "nbformat_minor": 5
}
