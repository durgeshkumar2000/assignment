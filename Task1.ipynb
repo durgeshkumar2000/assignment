{
 "cells": [
  {
   "cell_type": "code",
   "execution_count": 3,
   "id": "5dcf1ac4-5d49-4a24-9ba4-989925aab012",
   "metadata": {},
   "outputs": [
    {
     "name": "stdout",
     "output_type": "stream",
     "text": [
      " gsi gnei cs a gzw a emo cey l g  gnzw iaca\n"
     ]
    }
   ],
   "source": [
    "#Q2 \n",
    "encrypt1 = \"I want to become a Data Scientist\"\n",
    "encrypt = encrypt1.lower()\n",
    "\n",
    "dict = {\"a\": \"z\", \"b\" : \"y\" , \"c\" :\"x\", \"d\" : \"w\",\" e\" :\" v\",\" f\" : \"u\",\" g\" :\" t\",\" h\" :\" s\",\" i\" :\" r\",\" j\" :\" q\",\" k\" :\" p\",\" l\":\"o\",\" m\" : \"n\",\" n\" :\" m\" ,\" o\" :\" l\",\" p\" :\" k\", \"q\" :\" j\",\" r\" :\" i\",\" s\" :\" h\", \"t\" :\" g\",\" u\" :\" f\",\" v\" :\" e\",\" w\" :\" d\", \"x\" :\" c\",\" y\" :\" b\" ,\" z\" :\" a\"} \n",
    "\n",
    "num = encrypt[::-1]\n",
    "\n",
    "for i in dict:\n",
    "\tnum = num.replace(i, dict[i])\n",
    "print(f\"{num}aca\")"
   ]
  },
  {
   "cell_type": "code",
   "execution_count": null,
   "id": "c5c4efb9-44cc-4419-a617-9d911f6d381e",
   "metadata": {},
   "outputs": [],
   "source": []
  }
 ],
 "metadata": {
  "kernelspec": {
   "display_name": "Python 3 (ipykernel)",
   "language": "python",
   "name": "python3"
  },
  "language_info": {
   "codemirror_mode": {
    "name": "ipython",
    "version": 3
   },
   "file_extension": ".py",
   "mimetype": "text/x-python",
   "name": "python",
   "nbconvert_exporter": "python",
   "pygments_lexer": "ipython3",
   "version": "3.10.8"
  }
 },
 "nbformat": 4,
 "nbformat_minor": 5
}
