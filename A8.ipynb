{
 "cells": [
  {
   "cell_type": "code",
   "execution_count": 2,
   "id": "dda59571-5e4d-4317-a99a-28c43a127352",
   "metadata": {},
   "outputs": [],
   "source": [
    "#Q1\n",
    "#Abstraction in python is defined as a process of handling complexity by hiding unnecessary information from the user. This is one of the core concepts of object-oriented programming (OOP) languages. That enables the user to implement even more complex logic on top of the provided abstraction without understanding or even thinking about all the hidden background/back-end complexity.\n",
    "\n"
   ]
  },
  {
   "cell_type": "code",
   "execution_count": 8,
   "id": "961b97a1-3274-4390-a8ea-141bd3702a49",
   "metadata": {},
   "outputs": [
    {
     "name": "stdout",
     "output_type": "stream",
     "text": [
      "3 sides\n",
      "4 sides\n",
      "5 sides\n",
      "6 sides\n"
     ]
    }
   ],
   "source": [
    "import abc\n",
    "class polygon:\n",
    "    @abc.abstractmethod\n",
    "    def noofsides(self):\n",
    "        pass\n",
    "class triangle(polygon):\n",
    "    def noofsides(self):\n",
    "        print (\"3 sides\")\n",
    "class quadrilateral(polygon):\n",
    "    def noofsides(self):\n",
    "        print (\"4 sides\")\n",
    "class pentagon(polygon):\n",
    "    def noofsides(self):\n",
    "        print( \"5 sides\")\n",
    "class hexagon(polygon):\n",
    "    def noofsides(self):\n",
    "        print (\"6 sides\")\n",
    "        \n",
    "a = triangle()\n",
    "a.noofsides()\n",
    "b = quadrilateral()\n",
    "b.noofsides()\n",
    "c = pentagon()\n",
    "c.noofsides()\n",
    "d = hexagon()\n",
    "d.noofsides()"
   ]
  },
  {
   "cell_type": "code",
   "execution_count": 9,
   "id": "db2f1e46-1dd0-4b60-9c43-2dfe799954b4",
   "metadata": {},
   "outputs": [],
   "source": [
    "#Q2\n",
    "# Abstraction is a design level process and it is used to reduce the complexity at the designing stage of a project. Encapsulation is an implementation level process, and it is used to provide privacy and maintain control over the transparency of data at the implementation stage of a project.\n"
   ]
  },
  {
   "cell_type": "code",
   "execution_count": 10,
   "id": "ba6cc992-0dfa-4d7b-9625-2c4e1504d5ae",
   "metadata": {},
   "outputs": [],
   "source": [
    "#Q3 This module provides the infrastructure for defining abstract base classes (ABCs) in Python.\n",
    "#The 'abc' module in the Python library provides the infrastructure for defining custom abstract base classes. Abstract class cannot be instantiated in python. An Abstract method can be call by its subclasses."
   ]
  },
  {
   "cell_type": "code",
   "execution_count": 11,
   "id": "651eb037-c59d-4719-ac0e-ca1a1056a56b",
   "metadata": {},
   "outputs": [],
   "source": [
    "#Q4 In Python, abstraction can be achieved by having/using abstract classes and methods in our programs. Understanding Abstract Methods and Classes: An abstract method is a method that is declared, but does not contain implementation"
   ]
  },
  {
   "cell_type": "code",
   "execution_count": null,
   "id": "03f14cb7-c516-434c-b1e2-5b6e51587b4d",
   "metadata": {},
   "outputs": [],
   "source": [
    "#Q5 Abstract classes cannot be instantiated, but they can be subclassed. When an abstract class is subclassed, the subclass usually provides implementations for all of the abstract methods in its parent class. However, if it does not, then the subclass must also be declared abstract ."
   ]
  }
 ],
 "metadata": {
  "kernelspec": {
   "display_name": "Python 3 (ipykernel)",
   "language": "python",
   "name": "python3"
  },
  "language_info": {
   "codemirror_mode": {
    "name": "ipython",
    "version": 3
   },
   "file_extension": ".py",
   "mimetype": "text/x-python",
   "name": "python",
   "nbconvert_exporter": "python",
   "pygments_lexer": "ipython3",
   "version": "3.10.8"
  }
 },
 "nbformat": 4,
 "nbformat_minor": 5
}
