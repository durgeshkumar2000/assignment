{
 "cells": [
  {
   "cell_type": "code",
   "execution_count": 4,
   "id": "2aaf0054-e9e5-4861-8f43-2c9b89d96ac7",
   "metadata": {},
   "outputs": [
    {
     "name": "stdout",
     "output_type": "stream",
     "text": [
      "original list of tuples\n",
      "[('Sachin Tendulkar', 34357), ('Ricky Ponting', 27483), ('Jack Kallis', 25534), ('Virat Kohli', 24936)]\n",
      "/sorted list of tuples: \n",
      "[('Virat Kohli', 24936), ('Jack Kallis', 25534), ('Ricky Ponting', 27483), ('Sachin Tendulkar', 34357)]\n"
     ]
    }
   ],
   "source": [
    "#Q1\n",
    "l = [('Sachin Tendulkar',34357),('Ricky Ponting', 27483),('Jack Kallis',25534),('Virat Kohli',24936)]\n",
    "print(\"original list of tuples\")\n",
    "print(l)\n",
    "l.sort(key = lambda x : x[1])\n",
    "print(\"/sorted list of tuples: \")\n",
    "print(l)"
   ]
  },
  {
   "cell_type": "code",
   "execution_count": 6,
   "id": "f047beb8-b83f-4920-a1a3-c4f7b09d1f22",
   "metadata": {},
   "outputs": [
    {
     "name": "stdout",
     "output_type": "stream",
     "text": [
      "[1, 4, 9, 16, 25, 36, 49, 64, 81, 100]\n"
     ]
    }
   ],
   "source": [
    "#Q2 \n",
    "l = [1,2,3,4,5,6,7,8,9,10]\n",
    "a = list(map(lambda x : x**2,l))\n",
    "print(a)"
   ]
  },
  {
   "cell_type": "code",
   "execution_count": 7,
   "id": "5b6e34fe-56e3-46f4-acba-f6dea3147316",
   "metadata": {},
   "outputs": [
    {
     "name": "stdout",
     "output_type": "stream",
     "text": [
      "['1', '2', '3', '4', '5', '6', '7', '8', '9', '10']\n"
     ]
    }
   ],
   "source": [
    "#Q3\n",
    "l = [1,2,3,4,5,6,7,8,9,10]\n",
    "a = list(map( lambda x : str(x) , l))\n",
    "print(a)"
   ]
  },
  {
   "cell_type": "code",
   "execution_count": 18,
   "id": "bbe033c6-8fe5-4365-a18b-71a87733e1c8",
   "metadata": {},
   "outputs": [
    {
     "name": "stdout",
     "output_type": "stream",
     "text": [
      "15511210043330985984000000\n"
     ]
    }
   ],
   "source": [
    "#Q4\n",
    "from functools import reduce\n",
    "l = range(1,26)\n",
    "a = reduce(lambda x,y : x*y,l)\n",
    "print(a)"
   ]
  },
  {
   "cell_type": "code",
   "execution_count": 25,
   "id": "7d8c5f42-c7f2-4c8a-b183-b528ac63c6b1",
   "metadata": {},
   "outputs": [
    {
     "name": "stdout",
     "output_type": "stream",
     "text": [
      "[60, 90, 120]\n"
     ]
    }
   ],
   "source": [
    "#Q5\n",
    "l = [2,3,9,27,60,90,120,55,46]\n",
    "a = list(filter(lambda x : (x%2==0) & (x%3==0), l))\n",
    "print(a)"
   ]
  },
  {
   "cell_type": "code",
   "execution_count": 37,
   "id": "b59c8519-fd14-4b73-8dd8-7dcb286bb330",
   "metadata": {},
   "outputs": [
    {
     "name": "stdout",
     "output_type": "stream",
     "text": [
      "['php', 'aba', 'radar', 'level']\n"
     ]
    }
   ],
   "source": [
    "l = ['python' , 'php', 'aba', 'radar' , 'level']\n",
    "x = list(filter(lambda x: (x == \"\".join(reversed(x))),l)) \n",
    "print(x)"
   ]
  },
  {
   "cell_type": "code",
   "execution_count": null,
   "id": "7a94fb6f-9ba2-42bf-92bb-22bb9246c86a",
   "metadata": {},
   "outputs": [],
   "source": []
  }
 ],
 "metadata": {
  "kernelspec": {
   "display_name": "Python 3 (ipykernel)",
   "language": "python",
   "name": "python3"
  },
  "language_info": {
   "codemirror_mode": {
    "name": "ipython",
    "version": 3
   },
   "file_extension": ".py",
   "mimetype": "text/x-python",
   "name": "python",
   "nbconvert_exporter": "python",
   "pygments_lexer": "ipython3",
   "version": "3.10.8"
  }
 },
 "nbformat": 4,
 "nbformat_minor": 5
}
