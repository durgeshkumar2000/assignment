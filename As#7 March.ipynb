{
 "cells": [
  {
   "cell_type": "code",
   "execution_count": 1,
   "id": "37e3de52-5854-434c-88bd-94e4d8c2028c",
   "metadata": {},
   "outputs": [],
   "source": [
    "#Q1 Mean ,Mode , Median"
   ]
  },
  {
   "cell_type": "code",
   "execution_count": 2,
   "id": "54d13b3d-2808-46e3-bfda-ba8ca55364c2",
   "metadata": {},
   "outputs": [],
   "source": [
    "#Q2  Mean is simple average, Median is used when outlier is present and Mode is the max occuring element i.e frequency."
   ]
  },
  {
   "cell_type": "code",
   "execution_count": 3,
   "id": "04122c47-7b76-4f3a-b7fc-dea8b084d998",
   "metadata": {},
   "outputs": [],
   "source": [
    "#Q3\n",
    "age = [178,177,176,177,178.2,178,175,179,180,175,178.9,176.2,177,172.5,178,176.5]"
   ]
  },
  {
   "cell_type": "code",
   "execution_count": 4,
   "id": "966d0ebc-9d00-4372-a9ef-36331bf431e8",
   "metadata": {},
   "outputs": [
    {
     "data": {
      "text/plain": [
       "177.01875"
      ]
     },
     "execution_count": 4,
     "metadata": {},
     "output_type": "execute_result"
    }
   ],
   "source": [
    "import numpy as np\n",
    "np.mean(age)"
   ]
  },
  {
   "cell_type": "code",
   "execution_count": 5,
   "id": "b4dfbcc0-3fd5-40c8-805c-2da6178e455b",
   "metadata": {},
   "outputs": [
    {
     "data": {
      "text/plain": [
       "177.0"
      ]
     },
     "execution_count": 5,
     "metadata": {},
     "output_type": "execute_result"
    }
   ],
   "source": [
    "np.median(age)"
   ]
  },
  {
   "cell_type": "code",
   "execution_count": 7,
   "id": "634ac064-4efb-436b-b888-dec0067300ed",
   "metadata": {},
   "outputs": [
    {
     "name": "stderr",
     "output_type": "stream",
     "text": [
      "/tmp/ipykernel_781/1371876584.py:2: FutureWarning: Unlike other reduction functions (e.g. `skew`, `kurtosis`), the default behavior of `mode` typically preserves the axis it acts along. In SciPy 1.11.0, this behavior will change: the default value of `keepdims` will become False, the `axis` over which the statistic is taken will be eliminated, and the value None will no longer be accepted. Set `keepdims` to True or False to avoid this warning.\n",
      "  stats.mode(age)\n"
     ]
    },
    {
     "data": {
      "text/plain": [
       "ModeResult(mode=array([177.]), count=array([3]))"
      ]
     },
     "execution_count": 7,
     "metadata": {},
     "output_type": "execute_result"
    }
   ],
   "source": [
    "from scipy import stats\n",
    "stats.mode(age)"
   ]
  },
  {
   "cell_type": "code",
   "execution_count": 8,
   "id": "d7044e6e-5dd0-4fff-a9d9-0b5b23372997",
   "metadata": {},
   "outputs": [],
   "source": [
    "#Q4\n",
    "age = [178,177,176,177,178.2,178,175,179,180,175,178.9,176.2,177,172.5,178,176.5]"
   ]
  },
  {
   "cell_type": "code",
   "execution_count": 9,
   "id": "fe9b0acf-7687-40f6-9b75-cbde8287301b",
   "metadata": {},
   "outputs": [
    {
     "data": {
      "text/plain": [
       "3.199023437500001"
      ]
     },
     "execution_count": 9,
     "metadata": {},
     "output_type": "execute_result"
    }
   ],
   "source": [
    "np.var(age)"
   ]
  },
  {
   "cell_type": "code",
   "execution_count": 10,
   "id": "22e8b60e-29b8-4e3f-8139-c3256b4479e5",
   "metadata": {},
   "outputs": [
    {
     "data": {
      "text/plain": [
       "1.7885814036548633"
      ]
     },
     "execution_count": 10,
     "metadata": {},
     "output_type": "execute_result"
    }
   ],
   "source": [
    "np.std(age)"
   ]
  },
  {
   "cell_type": "code",
   "execution_count": 11,
   "id": "5259097e-7446-4a7a-a0b1-05615977b3bb",
   "metadata": {},
   "outputs": [],
   "source": [
    "#Q5\n",
    "#Unlike range and interquartile range, variance is a measure of dispersion that takes into account the spread of all data points in a data set. It's the measure of dispersion the most often used, along with the standard deviation, which is simply the square root of the variance."
   ]
  },
  {
   "cell_type": "code",
   "execution_count": 12,
   "id": "3f0987ad-cc85-4f30-8da8-ce29b98916de",
   "metadata": {},
   "outputs": [],
   "source": [
    "#Q6 A Venn diagram in math is used in logic theory and set theory to show various sets or data and their relationship with each other"
   ]
  },
  {
   "cell_type": "code",
   "execution_count": 13,
   "id": "73df5bc2-eb4d-417c-b49a-61008b9a7ee6",
   "metadata": {},
   "outputs": [],
   "source": [
    "#Q7\n",
    "#i) 2,6\n",
    "#ii) 0,2,3,4,5,6,7,8,10"
   ]
  },
  {
   "cell_type": "code",
   "execution_count": 14,
   "id": "4d8be3cc-4ee7-4827-8dd7-0034e946f2b9",
   "metadata": {},
   "outputs": [],
   "source": [
    "#Q8 Skewness is the measure of asymmetry of a histogram.\n"
   ]
  },
  {
   "cell_type": "code",
   "execution_count": 15,
   "id": "7c9e53eb-8bce-48d6-87f2-a2ed22e85123",
   "metadata": {},
   "outputs": [],
   "source": [
    "#Q9 Mediann is greater than mean."
   ]
  },
  {
   "cell_type": "code",
   "execution_count": 17,
   "id": "b8e94c9a-235c-4a1d-8e1c-cc77bb453694",
   "metadata": {},
   "outputs": [],
   "source": [
    "#Q10\n",
    "# Covariance is an indicator of the extent to which 2 random variables are dependent on each other, whereas correlation is a statistical measure that indicates how strongly two variale are related."
   ]
  },
  {
   "cell_type": "code",
   "execution_count": 18,
   "id": "4a026f0c-2bca-4622-9ca9-8dcc89fe15ad",
   "metadata": {},
   "outputs": [],
   "source": [
    "#Q11\n",
    "# x̄ = ( Σ xi ) ÷ n"
   ]
  },
  {
   "cell_type": "code",
   "execution_count": 19,
   "id": "03d3173e-69ce-4b56-8941-260a17cbec9f",
   "metadata": {},
   "outputs": [],
   "source": [
    "#Q12\n",
    "#When you have a normally distributed sample you can legitimately use both the mean or the median as your measure of central tendency. In fact, in any symmetrical distribution the mean, median and mode are equal."
   ]
  },
  {
   "cell_type": "code",
   "execution_count": 20,
   "id": "0ab66ca0-3427-4f4a-be2e-1a75d5945f2d",
   "metadata": {},
   "outputs": [],
   "source": [
    "#Q13\n",
    "# Covariance shows you how the two variables differ, whereas correlation shows you how the two variables are related."
   ]
  },
  {
   "cell_type": "code",
   "execution_count": null,
   "id": "f6016fed-150b-448e-9e94-5d98260520b4",
   "metadata": {},
   "outputs": [],
   "source": [
    "#Q14\n",
    "#"
   ]
  }
 ],
 "metadata": {
  "kernelspec": {
   "display_name": "Python 3 (ipykernel)",
   "language": "python",
   "name": "python3"
  },
  "language_info": {
   "codemirror_mode": {
    "name": "ipython",
    "version": 3
   },
   "file_extension": ".py",
   "mimetype": "text/x-python",
   "name": "python",
   "nbconvert_exporter": "python",
   "pygments_lexer": "ipython3",
   "version": "3.10.8"
  }
 },
 "nbformat": 4,
 "nbformat_minor": 5
}
