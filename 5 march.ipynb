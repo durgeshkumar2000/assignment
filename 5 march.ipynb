{
 "cells": [
  {
   "cell_type": "code",
   "execution_count": 1,
   "id": "b5a2b2c4-e071-4d8d-bf99-21922a8cd69c",
   "metadata": {},
   "outputs": [],
   "source": [
    "d = {}"
   ]
  },
  {
   "cell_type": "code",
   "execution_count": 2,
   "id": "30d67024-6d10-49bc-af4b-79b22302b63e",
   "metadata": {},
   "outputs": [
    {
     "ename": "SyntaxError",
     "evalue": "invalid syntax (2263927336.py, line 1)",
     "output_type": "error",
     "traceback": [
      "\u001b[0;36m  Cell \u001b[0;32mIn[2], line 1\u001b[0;36m\u001b[0m\n\u001b[0;31m    type{d}\u001b[0m\n\u001b[0m        ^\u001b[0m\n\u001b[0;31mSyntaxError\u001b[0m\u001b[0;31m:\u001b[0m invalid syntax\n"
     ]
    }
   ],
   "source": [
    "type{d}"
   ]
  },
  {
   "cell_type": "code",
   "execution_count": 3,
   "id": "61063c4f-e45a-4e4b-8e05-1f634bbf769b",
   "metadata": {},
   "outputs": [
    {
     "data": {
      "text/plain": [
       "dict"
      ]
     },
     "execution_count": 3,
     "metadata": {},
     "output_type": "execute_result"
    }
   ],
   "source": [
    "type(d)"
   ]
  },
  {
   "cell_type": "code",
   "execution_count": 4,
   "id": "d8608dd8-6fcd-497d-850e-9b7a1ab7baab",
   "metadata": {},
   "outputs": [],
   "source": [
    "d1 = {'key' : \"sudh\"}"
   ]
  },
  {
   "cell_type": "code",
   "execution_count": 5,
   "id": "c9c60e5f-7651-471e-a2a3-bfb94762ca0d",
   "metadata": {},
   "outputs": [
    {
     "data": {
      "text/plain": [
       "{'key': 'sudh'}"
      ]
     },
     "execution_count": 5,
     "metadata": {},
     "output_type": "execute_result"
    }
   ],
   "source": [
    "d1"
   ]
  },
  {
   "cell_type": "code",
   "execution_count": 6,
   "id": "4c0bb930-87bc-42f7-ae6e-9b09d59ddffe",
   "metadata": {},
   "outputs": [
    {
     "ename": "SyntaxError",
     "evalue": "unterminated string literal (detected at line 1) (3594884055.py, line 1)",
     "output_type": "error",
     "traceback": [
      "\u001b[0;36m  Cell \u001b[0;32mIn[6], line 1\u001b[0;36m\u001b[0m\n\u001b[0;31m    d2 = {'name' : \"sudhaanshu\" , \"email\" : \"dk@gmail.com\" , \"number : 234566}\u001b[0m\n\u001b[0m                                                             ^\u001b[0m\n\u001b[0;31mSyntaxError\u001b[0m\u001b[0;31m:\u001b[0m unterminated string literal (detected at line 1)\n"
     ]
    }
   ],
   "source": [
    "d2 = {'name' : \"sudhaanshu\" , \"email\" : \"dk@gmail.com\" , \"number : 234566}"
   ]
  },
  {
   "cell_type": "code",
   "execution_count": 7,
   "id": "89633deb-2c53-4f2e-bad6-c7faac6a7b8f",
   "metadata": {},
   "outputs": [],
   "source": [
    "d2 = {'name' : \"sudhaanshu\" , \"email\" : \"dk@gmail.com\" , \"number\" : 234566}"
   ]
  },
  {
   "cell_type": "code",
   "execution_count": 8,
   "id": "0c10de9a-d7ee-49ea-b1dd-942e5dbf9062",
   "metadata": {},
   "outputs": [
    {
     "data": {
      "text/plain": [
       "{'name': 'sudhaanshu', 'email': 'dk@gmail.com', 'number': 234566}"
      ]
     },
     "execution_count": 8,
     "metadata": {},
     "output_type": "execute_result"
    }
   ],
   "source": [
    "d2"
   ]
  },
  {
   "cell_type": "code",
   "execution_count": 9,
   "id": "b6386732-40a7-4b7e-a230-0a8ca4d4e654",
   "metadata": {},
   "outputs": [],
   "source": [
    "d3 = {234 : \"SUdh\"}"
   ]
  },
  {
   "cell_type": "code",
   "execution_count": 10,
   "id": "466904ea-ce89-44de-94f0-91d667679279",
   "metadata": {},
   "outputs": [
    {
     "data": {
      "text/plain": [
       "{234: 'SUdh'}"
      ]
     },
     "execution_count": 10,
     "metadata": {},
     "output_type": "execute_result"
    }
   ],
   "source": [
    "d3"
   ]
  },
  {
   "cell_type": "code",
   "execution_count": 11,
   "id": "a0f7af61-6d6b-48b5-8f4f-b3092918d66a",
   "metadata": {},
   "outputs": [
    {
     "ename": "SyntaxError",
     "evalue": "invalid syntax (1065680648.py, line 1)",
     "output_type": "error",
     "traceback": [
      "\u001b[0;36m  Cell \u001b[0;32mIn[11], line 1\u001b[0;36m\u001b[0m\n\u001b[0;31m    d3 = {234 : \"sudh\" , @wer : \"kumar\"}\u001b[0m\n\u001b[0m                         ^\u001b[0m\n\u001b[0;31mSyntaxError\u001b[0m\u001b[0;31m:\u001b[0m invalid syntax\n"
     ]
    }
   ],
   "source": [
    "d3 = {234 : \"sudh\" , @wer : \"kumar\"}"
   ]
  },
  {
   "cell_type": "code",
   "execution_count": 12,
   "id": "16015e8f-2b69-4148-a882-9d48ea07f4e1",
   "metadata": {},
   "outputs": [
    {
     "ename": "NameError",
     "evalue": "name '_wer' is not defined",
     "output_type": "error",
     "traceback": [
      "\u001b[0;31m---------------------------------------------------------------------------\u001b[0m",
      "\u001b[0;31mNameError\u001b[0m                                 Traceback (most recent call last)",
      "Cell \u001b[0;32mIn[12], line 1\u001b[0m\n\u001b[0;32m----> 1\u001b[0m d3 \u001b[38;5;241m=\u001b[39m {\u001b[38;5;241m234\u001b[39m : \u001b[38;5;124m\"\u001b[39m\u001b[38;5;124msudh\u001b[39m\u001b[38;5;124m\"\u001b[39m , \u001b[43m_wer\u001b[49m : \u001b[38;5;124m\"\u001b[39m\u001b[38;5;124mkumar\u001b[39m\u001b[38;5;124m\"\u001b[39m}\n",
      "\u001b[0;31mNameError\u001b[0m: name '_wer' is not defined"
     ]
    }
   ],
   "source": [
    "d3 = {234 : \"sudh\" , _wer : \"kumar\"}"
   ]
  },
  {
   "cell_type": "code",
   "execution_count": 13,
   "id": "ecffdd5d-2983-46c8-bd52-cc65d89e4f6b",
   "metadata": {},
   "outputs": [],
   "source": [
    "d3 = {234 : \"sudh\" , '_wer' : \"kumar\"}"
   ]
  },
  {
   "cell_type": "code",
   "execution_count": 14,
   "id": "40e77300-86e0-4011-b421-496f1f24f285",
   "metadata": {},
   "outputs": [
    {
     "data": {
      "text/plain": [
       "{234: 'sudh', '_wer': 'kumar'}"
      ]
     },
     "execution_count": 14,
     "metadata": {},
     "output_type": "execute_result"
    }
   ],
   "source": [
    "d3"
   ]
  },
  {
   "cell_type": "code",
   "execution_count": 15,
   "id": "7d1758ca-fae3-40c0-aa44-506fcb844d92",
   "metadata": {},
   "outputs": [
    {
     "ename": "SyntaxError",
     "evalue": "invalid syntax (4204087848.py, line 1)",
     "output_type": "error",
     "traceback": [
      "\u001b[0;36m  Cell \u001b[0;32mIn[15], line 1\u001b[0;36m\u001b[0m\n\u001b[0;31m    d3 = {234 : \"sudh\" , @wer : \"kumar\", True : 24234}\u001b[0m\n\u001b[0m                         ^\u001b[0m\n\u001b[0;31mSyntaxError\u001b[0m\u001b[0;31m:\u001b[0m invalid syntax\n"
     ]
    }
   ],
   "source": [
    "d3 = {234 : \"sudh\" , @wer : \"kumar\", d3 = {234 : \"sudh\" , @wer : \"kumar\"}"
   ]
  },
  {
   "cell_type": "code",
   "execution_count": 17,
   "id": "2267e335-a9e2-4aae-8d97-dfb93e43ba13",
   "metadata": {},
   "outputs": [],
   "source": [
    "d3 = {234 : \"sudh\" ,\"@wer\" : \"kumar\" , True : 23}"
   ]
  },
  {
   "cell_type": "code",
   "execution_count": 18,
   "id": "32a271db-aa94-4266-9ccf-e766a413df98",
   "metadata": {},
   "outputs": [
    {
     "data": {
      "text/plain": [
       "{234: 'sudh', '@wer': 'kumar', True: 23}"
      ]
     },
     "execution_count": 18,
     "metadata": {},
     "output_type": "execute_result"
    }
   ],
   "source": [
    "d3"
   ]
  },
  {
   "cell_type": "code",
   "execution_count": 20,
   "id": "b1caed3f-f617-41de-9b17-bc590522622a",
   "metadata": {},
   "outputs": [
    {
     "data": {
      "text/plain": [
       "'sudh'"
      ]
     },
     "execution_count": 20,
     "metadata": {},
     "output_type": "execute_result"
    }
   ],
   "source": [
    "d3[234]"
   ]
  },
  {
   "cell_type": "code",
   "execution_count": 21,
   "id": "1e05ad7b-42c1-430d-aea4-4b4f8b56869b",
   "metadata": {},
   "outputs": [
    {
     "data": {
      "text/plain": [
       "23"
      ]
     },
     "execution_count": 21,
     "metadata": {},
     "output_type": "execute_result"
    }
   ],
   "source": [
    "d3[True]"
   ]
  },
  {
   "cell_type": "code",
   "execution_count": 22,
   "id": "0d27b679-8d91-479f-9cea-1cb23cd495aa",
   "metadata": {},
   "outputs": [
    {
     "data": {
      "text/plain": [
       "23"
      ]
     },
     "execution_count": 22,
     "metadata": {},
     "output_type": "execute_result"
    }
   ],
   "source": [
    "d3[1]"
   ]
  },
  {
   "cell_type": "code",
   "execution_count": 23,
   "id": "af1af0df-58d9-43b5-b0e0-1db5b310ebf9",
   "metadata": {},
   "outputs": [
    {
     "data": {
      "text/plain": [
       "1"
      ]
     },
     "execution_count": 23,
     "metadata": {},
     "output_type": "execute_result"
    }
   ],
   "source": [
    "True - False"
   ]
  },
  {
   "cell_type": "code",
   "execution_count": 24,
   "id": "28363da5-1087-4585-ac63-2e33de5916ed",
   "metadata": {},
   "outputs": [
    {
     "data": {
      "text/plain": [
       "0"
      ]
     },
     "execution_count": 24,
     "metadata": {},
     "output_type": "execute_result"
    }
   ],
   "source": [
    "False*True"
   ]
  },
  {
   "cell_type": "code",
   "execution_count": 29,
   "id": "ea058c71-d505-4b0b-bca9-da4918d3b642",
   "metadata": {},
   "outputs": [],
   "source": [
    "d4 = {'name' : \"sudh\", 'mail_id' : \"dk@dmail.com\", \"name\" : \"nishu\"}"
   ]
  },
  {
   "cell_type": "code",
   "execution_count": 30,
   "id": "2f60bce7-c058-4fef-8afa-bbd83733ddad",
   "metadata": {},
   "outputs": [
    {
     "data": {
      "text/plain": [
       "{'name': 'nishu', 'mail_id': 'dk@dmail.com'}"
      ]
     },
     "execution_count": 30,
     "metadata": {},
     "output_type": "execute_result"
    }
   ],
   "source": [
    "d4"
   ]
  },
  {
   "cell_type": "code",
   "execution_count": 31,
   "id": "11c335a4-9336-4b98-9ff7-48f26923331c",
   "metadata": {},
   "outputs": [
    {
     "data": {
      "text/plain": [
       "'nishu'"
      ]
     },
     "execution_count": 31,
     "metadata": {},
     "output_type": "execute_result"
    }
   ],
   "source": [
    "d4['name']"
   ]
  },
  {
   "cell_type": "code",
   "execution_count": 32,
   "id": "e756b6a7-a434-4e36-aae6-c11655e0b259",
   "metadata": {},
   "outputs": [
    {
     "data": {
      "text/plain": [
       "{'name': 'nishu', 'mail_id': 'dk@dmail.com'}"
      ]
     },
     "execution_count": 32,
     "metadata": {},
     "output_type": "execute_result"
    }
   ],
   "source": [
    "d4"
   ]
  },
  {
   "cell_type": "code",
   "execution_count": 33,
   "id": "60189ecb-9e7a-45aa-bf0b-167d8e270b4b",
   "metadata": {},
   "outputs": [],
   "source": [
    "d5 ={\"company\" : \"pwskills\" , \"courses\" : [\"web dev\" , \"data Science\",\"Java\"]}"
   ]
  },
  {
   "cell_type": "code",
   "execution_count": 34,
   "id": "cf0450d0-da2c-44a4-8999-8b58d15a7949",
   "metadata": {},
   "outputs": [
    {
     "data": {
      "text/plain": [
       "{'company': 'pwskills', 'courses': ['web dev', 'data Science', 'Java']}"
      ]
     },
     "execution_count": 34,
     "metadata": {},
     "output_type": "execute_result"
    }
   ],
   "source": [
    "d5"
   ]
  },
  {
   "cell_type": "code",
   "execution_count": 36,
   "id": "f9491c92-c7b6-4483-b586-98ee51e2ffd7",
   "metadata": {},
   "outputs": [
    {
     "data": {
      "text/plain": [
       "['web dev', 'data Science', 'Java']"
      ]
     },
     "execution_count": 36,
     "metadata": {},
     "output_type": "execute_result"
    }
   ],
   "source": [
    "d5['courses']"
   ]
  },
  {
   "cell_type": "code",
   "execution_count": 37,
   "id": "bdf4ac81-e7a9-4eb6-b1b4-cf2d35419fe3",
   "metadata": {},
   "outputs": [
    {
     "data": {
      "text/plain": [
       "'Java'"
      ]
     },
     "execution_count": 37,
     "metadata": {},
     "output_type": "execute_result"
    }
   ],
   "source": [
    "d5['courses'][2]"
   ]
  },
  {
   "cell_type": "code",
   "execution_count": 1,
   "id": "cd89ae81-38c8-4e7f-8245-23fb598384f5",
   "metadata": {},
   "outputs": [
    {
     "ename": "SyntaxError",
     "evalue": "unterminated string literal (detected at line 1) (4174322989.py, line 1)",
     "output_type": "error",
     "traceback": [
      "\u001b[0;36m  Cell \u001b[0;32mIn[1], line 1\u001b[0;36m\u001b[0m\n\u001b[0;31m    d6 = {\"number\" : [12,1,3,1,5,23,46,33], \"assignment\" : (1,2,3,4,5,3), \"launch_date\" : {28,12,14}, \"class_timing}\u001b[0m\n\u001b[0m                                                                                                      ^\u001b[0m\n\u001b[0;31mSyntaxError\u001b[0m\u001b[0;31m:\u001b[0m unterminated string literal (detected at line 1)\n"
     ]
    }
   ],
   "source": [
    "d6 = {\"number\" : [12,1,3,1,5,23,46,33], \"assignment\" : (1,2,3,4,5,3), \"launch_date\" : {28,12,14}, \"class_timing}"
   ]
  },
  {
   "cell_type": "code",
   "execution_count": 3,
   "id": "8f22cd10-3cf8-4de7-b31b-0cae89f34cf1",
   "metadata": {},
   "outputs": [],
   "source": [
    "d6 = {\"number\" : [12,1,3,1,5,23,46,33], \"assignment\" : (1,2,3,4,5,3), \"launch_date\" : {28,12,14}, \"class_timing\" :{'web dev' : 8, 'datascience' : 8, 'java' : 7} }"
   ]
  },
  {
   "cell_type": "code",
   "execution_count": 4,
   "id": "ba7ed91d-6730-478e-aa48-6dae13fa9f92",
   "metadata": {},
   "outputs": [
    {
     "data": {
      "text/plain": [
       "{'number': [12, 1, 3, 1, 5, 23, 46, 33],\n",
       " 'assignment': (1, 2, 3, 4, 5, 3),\n",
       " 'launch_date': {12, 14, 28},\n",
       " 'class_timing': {'web dev': 8, 'datascience': 8, 'java': 7}}"
      ]
     },
     "execution_count": 4,
     "metadata": {},
     "output_type": "execute_result"
    }
   ],
   "source": [
    "d6"
   ]
  },
  {
   "cell_type": "code",
   "execution_count": 6,
   "id": "2d0ad7d5-b478-4d89-b8d8-f03b50c2d104",
   "metadata": {},
   "outputs": [
    {
     "data": {
      "text/plain": [
       "7"
      ]
     },
     "execution_count": 6,
     "metadata": {},
     "output_type": "execute_result"
    }
   ],
   "source": [
    "d6['class_timing']['java']"
   ]
  },
  {
   "cell_type": "code",
   "execution_count": 7,
   "id": "812e4937-7c9a-436b-b225-0005a05b3537",
   "metadata": {},
   "outputs": [],
   "source": [
    "d6['mentor'] = [\"sudhanshu\", 'krish', \" anurag\", \"haider\"]"
   ]
  },
  {
   "cell_type": "code",
   "execution_count": 8,
   "id": "9aa7f9e5-9d35-43e5-ba51-b6a5727b6bd4",
   "metadata": {},
   "outputs": [
    {
     "data": {
      "text/plain": [
       "{'number': [12, 1, 3, 1, 5, 23, 46, 33],\n",
       " 'assignment': (1, 2, 3, 4, 5, 3),\n",
       " 'launch_date': {12, 14, 28},\n",
       " 'class_timing': {'web dev': 8, 'datascience': 8, 'java': 7},\n",
       " 'mentor': ['sudhanshu', 'krish', ' anurag', 'haider']}"
      ]
     },
     "execution_count": 8,
     "metadata": {},
     "output_type": "execute_result"
    }
   ],
   "source": [
    "d6"
   ]
  },
  {
   "cell_type": "code",
   "execution_count": 10,
   "id": "5dd70163-80b1-45ac-8dc6-13a97e3b16e5",
   "metadata": {},
   "outputs": [],
   "source": [
    "del d6['number']"
   ]
  },
  {
   "cell_type": "code",
   "execution_count": 11,
   "id": "2e7dcd8f-782d-48ed-8982-3bdfd6118d55",
   "metadata": {},
   "outputs": [
    {
     "data": {
      "text/plain": [
       "{'assignment': (1, 2, 3, 4, 5, 3),\n",
       " 'launch_date': {12, 14, 28},\n",
       " 'class_timing': {'web dev': 8, 'datascience': 8, 'java': 7},\n",
       " 'mentor': ['sudhanshu', 'krish', ' anurag', 'haider']}"
      ]
     },
     "execution_count": 11,
     "metadata": {},
     "output_type": "execute_result"
    }
   ],
   "source": [
    "d6"
   ]
  },
  {
   "cell_type": "code",
   "execution_count": 14,
   "id": "c958ebf8-14a9-4d61-b3dc-913107cfe8e2",
   "metadata": {},
   "outputs": [
    {
     "data": {
      "text/plain": [
       "['assignment', 'launch_date', 'class_timing', 'mentor']"
      ]
     },
     "execution_count": 14,
     "metadata": {},
     "output_type": "execute_result"
    }
   ],
   "source": [
    "list(d6.keys())"
   ]
  },
  {
   "cell_type": "code",
   "execution_count": 15,
   "id": "3342455d-1777-4cdd-b276-6e7bf9263a3f",
   "metadata": {},
   "outputs": [
    {
     "data": {
      "text/plain": [
       "[(1, 2, 3, 4, 5, 3),\n",
       " {12, 14, 28},\n",
       " {'web dev': 8, 'datascience': 8, 'java': 7},\n",
       " ['sudhanshu', 'krish', ' anurag', 'haider']]"
      ]
     },
     "execution_count": 15,
     "metadata": {},
     "output_type": "execute_result"
    }
   ],
   "source": [
    "list(d6.values())"
   ]
  },
  {
   "cell_type": "code",
   "execution_count": 17,
   "id": "5dc3be49-05cf-4641-8ebe-51b09d06bb89",
   "metadata": {},
   "outputs": [
    {
     "data": {
      "text/plain": [
       "[('assignment', (1, 2, 3, 4, 5, 3)),\n",
       " ('launch_date', {12, 14, 28}),\n",
       " ('class_timing', {'web dev': 8, 'datascience': 8, 'java': 7}),\n",
       " ('mentor', ['sudhanshu', 'krish', ' anurag', 'haider'])]"
      ]
     },
     "execution_count": 17,
     "metadata": {},
     "output_type": "execute_result"
    }
   ],
   "source": [
    "list(d6.items())"
   ]
  },
  {
   "cell_type": "code",
   "execution_count": 18,
   "id": "2f40ac31-d21a-4899-b942-207c03f07c14",
   "metadata": {},
   "outputs": [
    {
     "data": {
      "text/plain": [
       "(1, 2, 3, 4, 5, 3)"
      ]
     },
     "execution_count": 18,
     "metadata": {},
     "output_type": "execute_result"
    }
   ],
   "source": [
    "d6.pop('assignment')"
   ]
  },
  {
   "cell_type": "code",
   "execution_count": 19,
   "id": "6b06d71e-b962-49a1-aeec-03b1b90f09ed",
   "metadata": {},
   "outputs": [
    {
     "data": {
      "text/plain": [
       "{'launch_date': {12, 14, 28},\n",
       " 'class_timing': {'web dev': 8, 'datascience': 8, 'java': 7},\n",
       " 'mentor': ['sudhanshu', 'krish', ' anurag', 'haider']}"
      ]
     },
     "execution_count": 19,
     "metadata": {},
     "output_type": "execute_result"
    }
   ],
   "source": [
    "d6"
   ]
  },
  {
   "cell_type": "code",
   "execution_count": 20,
   "id": "ce193440-f80e-4f5a-b82d-5a55fd92ef59",
   "metadata": {},
   "outputs": [
    {
     "ename": "TypeError",
     "evalue": "pop expected at least 1 argument, got 0",
     "output_type": "error",
     "traceback": [
      "\u001b[0;31m---------------------------------------------------------------------------\u001b[0m",
      "\u001b[0;31mTypeError\u001b[0m                                 Traceback (most recent call last)",
      "Cell \u001b[0;32mIn[20], line 1\u001b[0m\n\u001b[0;32m----> 1\u001b[0m \u001b[43md6\u001b[49m\u001b[38;5;241;43m.\u001b[39;49m\u001b[43mpop\u001b[49m\u001b[43m(\u001b[49m\u001b[43m)\u001b[49m\n",
      "\u001b[0;31mTypeError\u001b[0m: pop expected at least 1 argument, got 0"
     ]
    }
   ],
   "source": [
    "d6.pop()"
   ]
  },
  {
   "cell_type": "code",
   "execution_count": 11,
   "id": "0c5e9cea-4738-44d2-b07c-e39ad2027f7e",
   "metadata": {},
   "outputs": [
    {
     "name": "stdin",
     "output_type": "stream",
     "text": [
      "Enter your marks 90\n"
     ]
    },
    {
     "name": "stdout",
     "output_type": "stream",
     "text": [
      "you will be a part of A0 batch\n"
     ]
    }
   ],
   "source": [
    "marks = int(input(\"Enter your marks\"))\n",
    "if marks >= 80 : \n",
    "    print(\"you will be a part of A0 batch\")\n",
    "elif marks >= 60 and marks < 80 :\n",
    "    print(\"you will be a part of A1 batch\")\n",
    "elif marks >= 40 and marks < 60 :\n",
    "        print(\"you will be a part of A2 batch\")\n",
    "else :\n",
    "        print(\"you will be a part of A3 batch\")"
   ]
  },
  {
   "cell_type": "code",
   "execution_count": null,
   "id": "45076db3-1039-4955-8d4f-0943c7a33ed5",
   "metadata": {},
   "outputs": [
    {
     "data": {
      "text/plain": [
       "False"
      ]
     },
     "execution_count": 26,
     "metadata": {},
     "output_type": "execute_result"
    }
   ],
   "source": [
    "10 >= 80"
   ]
  },
  {
   "cell_type": "code",
   "execution_count": 7,
   "id": "3cf19782-edde-4850-815a-c58abe7a656e",
   "metadata": {},
   "outputs": [
    {
     "name": "stdin",
     "output_type": "stream",
     "text": [
      "Enter your marks 45\n"
     ]
    }
   ],
   "source": [
    "marks = int(input(\"Enter your marks\"))"
   ]
  },
  {
   "cell_type": "code",
   "execution_count": 8,
   "id": "847881ba-87ba-4da9-9e94-919e44bae3b9",
   "metadata": {},
   "outputs": [
    {
     "data": {
      "text/plain": [
       "45"
      ]
     },
     "execution_count": 8,
     "metadata": {},
     "output_type": "execute_result"
    }
   ],
   "source": [
    "marks"
   ]
  },
  {
   "cell_type": "code",
   "execution_count": 9,
   "id": "8b496e47-4ff2-47d0-9fdb-6ff14a6c90e0",
   "metadata": {},
   "outputs": [
    {
     "data": {
      "text/plain": [
       "int"
      ]
     },
     "execution_count": 9,
     "metadata": {},
     "output_type": "execute_result"
    }
   ],
   "source": [
    "type(marks)"
   ]
  },
  {
   "cell_type": "code",
   "execution_count": 22,
   "id": "d02c6819-6ef4-43db-90d4-b9d2a7a71dc6",
   "metadata": {},
   "outputs": [
    {
     "name": "stdin",
     "output_type": "stream",
     "text": [
      "enter price 1500\n"
     ]
    },
    {
     "name": "stdout",
     "output_type": "stream",
     "text": [
      "i will not purchase\n",
      "its ok\n"
     ]
    }
   ],
   "source": [
    "price = int(input(\"enter price\"))\n",
    "if price > 1000 : \n",
    "    print(\"i will not purchase\")\n",
    "    if price > 5000 :\n",
    "        print(\"this is too much\")\n",
    "    elif price < 2000 :\n",
    "        print(\"its ok\")\n",
    "elif price < 1000 :\n",
    "    print(\" i will purchase\")\n",
    "    print(\"i will not purchase\")\n",
    "    if price > 5000 :\n",
    "        print(\"this is too much\")\n",
    "    elif price < 2000 :\n",
    "        print(\"its ok\")\n",
    "else :\n",
    "    print(\"not interested\")\n",
    "    print(\"i will not purchase\")\n",
    "    if price > 5000 :\n",
    "        print(\"this is too much\")\n",
    "    elif price < 2000 :\n",
    "        print(\"its ok\")"
   ]
  },
  {
   "cell_type": "code",
   "execution_count": 23,
   "id": "1fb06c3a-81fb-487a-ac30-66d9bfb0ccc2",
   "metadata": {},
   "outputs": [],
   "source": [
    "l = [1,2,3,5,4,5,6,7,8]"
   ]
  },
  {
   "cell_type": "code",
   "execution_count": 24,
   "id": "1f95b4dd-7e25-4925-8b75-d7392f60046c",
   "metadata": {},
   "outputs": [
    {
     "data": {
      "text/plain": [
       "2"
      ]
     },
     "execution_count": 24,
     "metadata": {},
     "output_type": "execute_result"
    }
   ],
   "source": [
    "l[0] + 1"
   ]
  },
  {
   "cell_type": "code",
   "execution_count": 25,
   "id": "4634fecb-161d-4c6b-9333-6c87f299bace",
   "metadata": {},
   "outputs": [],
   "source": [
    "l1 = []"
   ]
  },
  {
   "cell_type": "code",
   "execution_count": 26,
   "id": "da5a5945-edba-4168-a079-7c4f87c26371",
   "metadata": {},
   "outputs": [],
   "source": [
    "l1.append(l[0]+1)"
   ]
  },
  {
   "cell_type": "code",
   "execution_count": 27,
   "id": "5209e2c5-fbb3-4d56-a46e-0e97a708fe04",
   "metadata": {},
   "outputs": [
    {
     "data": {
      "text/plain": [
       "[2]"
      ]
     },
     "execution_count": 27,
     "metadata": {},
     "output_type": "execute_result"
    }
   ],
   "source": [
    "l1"
   ]
  },
  {
   "cell_type": "code",
   "execution_count": 30,
   "id": "78e60d61-e392-4997-b025-348ecfb90f34",
   "metadata": {},
   "outputs": [],
   "source": [
    "l = [1,2,3,4,5,6,7,8]"
   ]
  },
  {
   "cell_type": "code",
   "execution_count": 2,
   "id": "d00cd6f1-2505-4ac4-990a-aaaf3cb35e6a",
   "metadata": {},
   "outputs": [
    {
     "ename": "IndentationError",
     "evalue": "unexpected indent (1224653941.py, line 2)",
     "output_type": "error",
     "traceback": [
      "\u001b[0;36m  Cell \u001b[0;32mIn[2], line 2\u001b[0;36m\u001b[0m\n\u001b[0;31m    for i in l :\u001b[0m\n\u001b[0m    ^\u001b[0m\n\u001b[0;31mIndentationError\u001b[0m\u001b[0;31m:\u001b[0m unexpected indent\n"
     ]
    }
   ],
   "source": [
    "l1 = []\n",
    " for i in l :\n",
    "    print(i+1)\n",
    "    l1.append(i+1)"
   ]
  },
  {
   "cell_type": "code",
   "execution_count": 3,
   "id": "35cbb78f-ae0d-48ae-a3bb-e0944ad0bd7f",
   "metadata": {},
   "outputs": [],
   "source": [
    "l = [\"sudh\",\"kumar\",\"pwskills\",\"course\"]"
   ]
  },
  {
   "cell_type": "code",
   "execution_count": 7,
   "id": "1ebc0687-e64c-4d51-b768-2faa9eb1104a",
   "metadata": {},
   "outputs": [
    {
     "name": "stdout",
     "output_type": "stream",
     "text": [
      "sudh\n",
      "kumar\n",
      "pwskills\n",
      "course\n"
     ]
    }
   ],
   "source": [
    "l1 = []\n",
    "for i in l :\n",
    "    print(i)\n",
    "    l1.append(i.upper())"
   ]
  },
  {
   "cell_type": "code",
   "execution_count": 8,
   "id": "e09c3e44-55b6-4fd7-807c-9d2f90a38cfa",
   "metadata": {},
   "outputs": [
    {
     "data": {
      "text/plain": [
       "['SUDH', 'KUMAR', 'PWSKILLS', 'COURSE']"
      ]
     },
     "execution_count": 8,
     "metadata": {},
     "output_type": "execute_result"
    }
   ],
   "source": [
    "l1"
   ]
  },
  {
   "cell_type": "code",
   "execution_count": 9,
   "id": "a99af996-6c32-4b8a-9e7f-b1cd9c4011c4",
   "metadata": {},
   "outputs": [],
   "source": [
    "l = [1,2,3,4,4,\"sudh\",\"kumar\",324,34.564,\"abc\"]"
   ]
  },
  {
   "cell_type": "code",
   "execution_count": 10,
   "id": "8726296f-f43d-431e-9893-296d728de52a",
   "metadata": {},
   "outputs": [],
   "source": [
    "l1_num = []\n",
    "l2_str = []\n",
    "for i in l :\n",
    "    if type(i) == int or type(i) == float :\n",
    "        l1_num.append(i)\n",
    "    else :\n",
    "        l2_str.append(i)\n",
    "    \n",
    "    "
   ]
  },
  {
   "cell_type": "code",
   "execution_count": 11,
   "id": "347b6259-10ae-4ca6-9147-a42d8f0dc169",
   "metadata": {},
   "outputs": [
    {
     "data": {
      "text/plain": [
       "[1, 2, 3, 4, 4, 324, 34.564]"
      ]
     },
     "execution_count": 11,
     "metadata": {},
     "output_type": "execute_result"
    }
   ],
   "source": [
    "l1_num"
   ]
  },
  {
   "cell_type": "code",
   "execution_count": 12,
   "id": "2c38774b-6ff4-4737-ada4-76a059c33433",
   "metadata": {},
   "outputs": [
    {
     "data": {
      "text/plain": [
       "['sudh', 'kumar', 'abc']"
      ]
     },
     "execution_count": 12,
     "metadata": {},
     "output_type": "execute_result"
    }
   ],
   "source": [
    "l2_str"
   ]
  },
  {
   "cell_type": "code",
   "execution_count": null,
   "id": "de7f8579-4306-4cc2-8a66-f738935dbb92",
   "metadata": {},
   "outputs": [],
   "source": []
  }
 ],
 "metadata": {
  "kernelspec": {
   "display_name": "Python 3 (ipykernel)",
   "language": "python",
   "name": "python3"
  },
  "language_info": {
   "codemirror_mode": {
    "name": "ipython",
    "version": 3
   },
   "file_extension": ".py",
   "mimetype": "text/x-python",
   "name": "python",
   "nbconvert_exporter": "python",
   "pygments_lexer": "ipython3",
   "version": "3.10.8"
  }
 },
 "nbformat": 4,
 "nbformat_minor": 5
}
