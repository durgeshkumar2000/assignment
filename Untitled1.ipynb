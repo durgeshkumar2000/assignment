{
 "cells": [
  {
   "cell_type": "markdown",
   "id": "2d79322c-7ffc-4df5-905c-b874c00de586",
   "metadata": {
    "tags": []
   },
   "source": [
    "# Q1\n",
    "\"\"\"An exception is an event, which occurs during the execution of a program that disrupts the normal flow of the program's instructions.\"\"\""
   ]
  },
  {
   "cell_type": "code",
   "execution_count": 1,
   "id": "9784dfe4-dfe2-4d2c-8a44-9f3b96fef1a2",
   "metadata": {},
   "outputs": [
    {
     "data": {
      "text/plain": [
       "'The Python SyntaxError occurs when the interpreter encounters invalid syntax in code. When Python code is executed, the interpreter parses it to convert it into bytecode. If the interpreter finds any invalid syntax during the parsing stage, a SyntaxError is thrown.'"
      ]
     },
     "execution_count": 1,
     "metadata": {},
     "output_type": "execute_result"
    }
   ],
   "source": [
    "\"\"\"The Python SyntaxError occurs when the interpreter encounters invalid syntax in code. When Python code is executed, the interpreter parses it to convert it into bytecode. If the interpreter finds any invalid syntax during the parsing stage, a SyntaxError is thrown.\"\"\"\n"
   ]
  },
  {
   "cell_type": "code",
   "execution_count": 2,
   "id": "d4d56698-c611-4b02-a47d-1aab53a5cda6",
   "metadata": {},
   "outputs": [
    {
     "data": {
      "text/plain": [
       "'A syntax error occurs when the structure of a program does not conform to the rules of the programming language. Syntax errors are usually detected by the compiler or interpreter when the program is being compiled or executed, and they prevent the program from running. Syntax errors are usually caused by mistakes in the source code, such as typos, omissions, or incorrect use of syntax.\\n\\nAn exception is an abnormal event that occurs during the execution of a program. Exceptions are usually caused by runtime errors, such as dividing by zero, trying to access an element in an array with an out-of-bounds index, or trying to access a file that does not exist. Exceptions are not syntax errors, but they can still prevent the program from running if they are not handled properly.'"
      ]
     },
     "execution_count": 2,
     "metadata": {},
     "output_type": "execute_result"
    }
   ],
   "source": [
    "\"\"\"A syntax error occurs when the structure of a program does not conform to the rules of the programming language. Syntax errors are usually detected by the compiler or interpreter when the program is being compiled or executed, and they prevent the program from running. Syntax errors are usually caused by mistakes in the source code, such as typos, omissions, or incorrect use of syntax.\n",
    "\n",
    "An exception is an abnormal event that occurs during the execution of a program. Exceptions are usually caused by runtime errors, such as dividing by zero, trying to access an element in an array with an out-of-bounds index, or trying to access a file that does not exist. Exceptions are not syntax errors, but they can still prevent the program from running if they are not handled properly.\"\"\""
   ]
  },
  {
   "cell_type": "code",
   "execution_count": 3,
   "id": "4a9b07b1-af41-4a41-be59-73716f214636",
   "metadata": {},
   "outputs": [],
   "source": [
    "#Q2"
   ]
  },
  {
   "cell_type": "code",
   "execution_count": 4,
   "id": "1bba04d2-e3a0-4d93-9ec6-93b4244ccae7",
   "metadata": {},
   "outputs": [
    {
     "data": {
      "text/plain": [
       "'Exception handling is the process of responding to unwanted or unexpected events when a computer program runs. Exception handling deals with these events to avoid the program or system crashing, and without this process, exceptions would disrupt the normal operation of a program'"
      ]
     },
     "execution_count": 4,
     "metadata": {},
     "output_type": "execute_result"
    }
   ],
   "source": [
    "\"\"\"Exception handling is the process of responding to unwanted or unexpected events when a computer program runs. Exception handling deals with these events to avoid the program or system crashing, and without this process, exceptions would disrupt the normal operation of a program\"\"\""
   ]
  },
  {
   "cell_type": "code",
   "execution_count": 6,
   "id": "6db12f01-4e8f-4c45-937e-cf023c36da02",
   "metadata": {},
   "outputs": [],
   "source": [
    "def linux_interaction():\n",
    "    assert ('linux' in sys.platform), \"Function can only run on Linux systems.\"\n",
    "    print('Doing something.')"
   ]
  },
  {
   "cell_type": "code",
   "execution_count": 7,
   "id": "0a282b85-87d8-4e13-9bf6-83530f1e7f40",
   "metadata": {},
   "outputs": [],
   "source": [
    "try:\n",
    "    linux_interaction()\n",
    "except:\n",
    "    pass"
   ]
  },
  {
   "cell_type": "code",
   "execution_count": 12,
   "id": "7b01b8d0-28b5-4806-8e3a-61b7833817d5",
   "metadata": {},
   "outputs": [
    {
     "name": "stdout",
     "output_type": "stream",
     "text": [
      "Hello\n",
      "Durgesh\n"
     ]
    }
   ],
   "source": [
    "#Q4\n",
    "try :\n",
    "    print(\"Hello\")\n",
    "except:\n",
    "    print(\"DADA\")\n",
    "else:\n",
    "    print(\"Durgesh\")"
   ]
  },
  {
   "cell_type": "code",
   "execution_count": 14,
   "id": "f5570e2a-2eb2-40c4-9fdd-6b71de371d97",
   "metadata": {},
   "outputs": [
    {
     "name": "stdout",
     "output_type": "stream",
     "text": [
      "Pw is an emotion\n",
      "Sach hai ye\n"
     ]
    }
   ],
   "source": [
    "try:\n",
    "    print(t)\n",
    "except:\n",
    "    print(\"Pw is an emotion\")\n",
    "finally:\n",
    "    print(\"Sach hai ye\")"
   ]
  },
  {
   "cell_type": "code",
   "execution_count": 15,
   "id": "c4f41936-9be7-45aa-ac77-d7bf7008f28b",
   "metadata": {},
   "outputs": [
    {
     "ename": "Exception",
     "evalue": "something went wrong",
     "output_type": "error",
     "traceback": [
      "\u001b[0;31m---------------------------------------------------------------------------\u001b[0m",
      "\u001b[0;31mException\u001b[0m                                 Traceback (most recent call last)",
      "Cell \u001b[0;32mIn[15], line 4\u001b[0m\n\u001b[1;32m      1\u001b[0m x \u001b[38;5;241m=\u001b[39m \u001b[38;5;241m-\u001b[39m\u001b[38;5;241m1\u001b[39m\n\u001b[1;32m      3\u001b[0m \u001b[38;5;28;01mif\u001b[39;00m x \u001b[38;5;241m<\u001b[39m \u001b[38;5;241m0\u001b[39m:\n\u001b[0;32m----> 4\u001b[0m     \u001b[38;5;28;01mraise\u001b[39;00m \u001b[38;5;167;01mException\u001b[39;00m(\u001b[38;5;124m\"\u001b[39m\u001b[38;5;124msomething went wrong\u001b[39m\u001b[38;5;124m\"\u001b[39m)\n",
      "\u001b[0;31mException\u001b[0m: something went wrong"
     ]
    }
   ],
   "source": [
    "x = -1\n",
    "\n",
    "if x < 0:\n",
    "    raise Exception(\"something went wrong\")"
   ]
  },
  {
   "cell_type": "code",
   "execution_count": 18,
   "id": "8a179e98-1c4b-4919-b726-9f4d33a7f5f2",
   "metadata": {},
   "outputs": [
    {
     "ename": "Exception",
     "evalue": "Pw ",
     "output_type": "error",
     "traceback": [
      "\u001b[0;31m---------------------------------------------------------------------------\u001b[0m",
      "\u001b[0;31mException\u001b[0m                                 Traceback (most recent call last)",
      "Cell \u001b[0;32mIn[18], line 3\u001b[0m\n\u001b[1;32m      1\u001b[0m x \u001b[38;5;241m=\u001b[39m \u001b[38;5;124m\"\u001b[39m\u001b[38;5;124mhello\u001b[39m\u001b[38;5;124m\"\u001b[39m\n\u001b[1;32m      2\u001b[0m \u001b[38;5;28;01mif\u001b[39;00m \u001b[38;5;28mtype\u001b[39m(x) \u001b[38;5;241m!=\u001b[39m \u001b[38;5;28mint\u001b[39m :\n\u001b[0;32m----> 3\u001b[0m     \u001b[38;5;28;01mraise\u001b[39;00m \u001b[38;5;167;01mException\u001b[39;00m(\u001b[38;5;124m\"\u001b[39m\u001b[38;5;124mPw \u001b[39m\u001b[38;5;124m\"\u001b[39m)\n",
      "\u001b[0;31mException\u001b[0m: Pw "
     ]
    }
   ],
   "source": [
    "x = \"hello\"\n",
    "if type(x) != int :\n",
    "    raise Exception(\"Pw \")"
   ]
  },
  {
   "cell_type": "code",
   "execution_count": 19,
   "id": "c4855225-28a3-4bcf-be5a-e915d0ab6393",
   "metadata": {},
   "outputs": [],
   "source": [
    "#Q5\n",
    "#Sometime we may need to create our own custom exception that serve our purpose.\n",
    "#In python, we can define custom exception by creating a new class that is derived from the built in exception class."
   ]
  },
  {
   "cell_type": "code",
   "execution_count": 24,
   "id": "70071335-e54e-47bf-a225-a093cd160134",
   "metadata": {},
   "outputs": [
    {
     "ename": "customError",
     "evalue": "Example of custom ",
     "output_type": "error",
     "traceback": [
      "\u001b[0;31m---------------------------------------------------------------------------\u001b[0m",
      "\u001b[0;31mcustomError\u001b[0m                               Traceback (most recent call last)",
      "Cell \u001b[0;32mIn[24], line 3\u001b[0m\n\u001b[1;32m      1\u001b[0m \u001b[38;5;28;01mclass\u001b[39;00m \u001b[38;5;21;01mcustomError\u001b[39;00m(\u001b[38;5;167;01mException\u001b[39;00m):\n\u001b[1;32m      2\u001b[0m     \u001b[38;5;28;01mpass\u001b[39;00m\n\u001b[0;32m----> 3\u001b[0m \u001b[38;5;28;01mraise\u001b[39;00m customError(\u001b[38;5;124m\"\u001b[39m\u001b[38;5;124mExample of custom \u001b[39m\u001b[38;5;124m\"\u001b[39m)\n",
      "\u001b[0;31mcustomError\u001b[0m: Example of custom "
     ]
    }
   ],
   "source": [
    "class customError(Exception):\n",
    "    pass\n",
    "raise customError(\"Example of custom \")\n",
    "    \n"
   ]
  },
  {
   "cell_type": "code",
   "execution_count": 25,
   "id": "f47ecd64-d328-4106-9f34-da9e686d23f8",
   "metadata": {},
   "outputs": [],
   "source": [
    "#Q6"
   ]
  },
  {
   "cell_type": "code",
   "execution_count": null,
   "id": "9cf93209-1538-4781-9002-a70c98aad583",
   "metadata": {},
   "outputs": [],
   "source": []
  },
  {
   "cell_type": "code",
   "execution_count": 28,
   "id": "fdede022-cd19-4887-93fb-f37b1e83d9f6",
   "metadata": {},
   "outputs": [
    {
     "name": "stdin",
     "output_type": "stream",
     "text": [
      "enter age 89\n"
     ]
    },
    {
     "ename": "TooOldException",
     "evalue": "Your age already crossed marriage age...no chance of getting marriage",
     "output_type": "error",
     "traceback": [
      "\u001b[0;31m---------------------------------------------------------------------------\u001b[0m",
      "\u001b[0;31mTooOldException\u001b[0m                           Traceback (most recent call last)",
      "Cell \u001b[0;32mIn[28], line 10\u001b[0m\n\u001b[1;32m      8\u001b[0m age \u001b[38;5;241m=\u001b[39m \u001b[38;5;28mint\u001b[39m(\u001b[38;5;28minput\u001b[39m(\u001b[38;5;124m\"\u001b[39m\u001b[38;5;124menter age\u001b[39m\u001b[38;5;124m\"\u001b[39m))\n\u001b[1;32m      9\u001b[0m \u001b[38;5;28;01mif\u001b[39;00m age \u001b[38;5;241m>\u001b[39m \u001b[38;5;241m60\u001b[39m :\n\u001b[0;32m---> 10\u001b[0m     \u001b[38;5;28;01mraise\u001b[39;00m TooOldException(\u001b[38;5;124m\"\u001b[39m\u001b[38;5;124mYour age already crossed marriage age...no chance of getting marriage\u001b[39m\u001b[38;5;124m\"\u001b[39m)\n\u001b[1;32m     11\u001b[0m \u001b[38;5;28;01melif\u001b[39;00m age \u001b[38;5;241m<\u001b[39m \u001b[38;5;241m18\u001b[39m: \n\u001b[1;32m     12\u001b[0m     \u001b[38;5;28;01mraise\u001b[39;00m TooYoungException(\u001b[38;5;124m\"\u001b[39m\u001b[38;5;124mPlz wait some more time you will get best match soon!!!\u001b[39m\u001b[38;5;124m\"\u001b[39m)\n",
      "\u001b[0;31mTooOldException\u001b[0m: Your age already crossed marriage age...no chance of getting marriage"
     ]
    }
   ],
   "source": [
    "class TooYounfException(Exception):\n",
    "    def __init__(self, arg):\n",
    "        self.msg = arg\n",
    "class TooOldException(Exception):\n",
    "    def __init__(self, arg):\n",
    "        self.msg = arg\n",
    "        \n",
    "age = int(input(\"enter age\"))\n",
    "if age > 60 :\n",
    "    raise TooOldException(\"Your age already crossed marriage age...no chance of getting marriage\")\n",
    "elif age < 18: \n",
    "    raise TooYoungException(\"Plz wait some more time you will get best match soon!!!\")\n",
    "else:\n",
    "    print(\"You will get match details soon by email!!!\")\n",
    "    "
   ]
  },
  {
   "cell_type": "code",
   "execution_count": 29,
   "id": "072bad43-5abe-489a-bf9a-4ce7a2a97846",
   "metadata": {},
   "outputs": [],
   "source": [
    "#Q3"
   ]
  },
  {
   "cell_type": "code",
   "execution_count": 30,
   "id": "714198a0-04d9-4326-bab8-c54836aee02d",
   "metadata": {},
   "outputs": [
    {
     "data": {
      "text/plain": [
       "'The try and except block in Python is used to catch and handle exceptions'"
      ]
     },
     "execution_count": 30,
     "metadata": {},
     "output_type": "execute_result"
    }
   ],
   "source": [
    "\"\"\"The try and except block in Python is used to catch and handle exceptions\"\"\""
   ]
  },
  {
   "cell_type": "code",
   "execution_count": null,
   "id": "adf90cf2-c9a4-4045-9ebd-95cd4d2066e3",
   "metadata": {},
   "outputs": [],
   "source": [
    "try : \n",
    "    print(y)\n",
    "except:\n",
    "    "
   ]
  }
 ],
 "metadata": {
  "kernelspec": {
   "display_name": "Python 3 (ipykernel)",
   "language": "python",
   "name": "python3"
  },
  "language_info": {
   "codemirror_mode": {
    "name": "ipython",
    "version": 3
   },
   "file_extension": ".py",
   "mimetype": "text/x-python",
   "name": "python",
   "nbconvert_exporter": "python",
   "pygments_lexer": "ipython3",
   "version": "3.10.8"
  }
 },
 "nbformat": 4,
 "nbformat_minor": 5
}
